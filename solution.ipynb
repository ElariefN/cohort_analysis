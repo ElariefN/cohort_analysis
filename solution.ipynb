{
 "cells": [
  {
   "cell_type": "markdown",
   "metadata": {},
   "source": [
    "### Solution to cohort analysis challenge\n",
    "I believe that ideally this should be solved using Pandas or Spark. Given the restrictions, I opted for solving it using SQL which can handle large datasets and that joining and grouping is naturally fit for SQL.\n",
    "I would normally add test cases and create a more robust solution, however as I only had a couple hours to complete this, I hope that the general solution approach is acceptable."
   ]
  },
  {
   "cell_type": "code",
   "execution_count": 3,
   "metadata": {},
   "outputs": [],
   "source": [
    "import csv, sqlite3\n",
    "import datetime\n",
    "from datetime import timedelta\n",
    "\n",
    "# Load the csv data into the database\n",
    "con = sqlite3.connect(\":memory:\")\n",
    "cur = con.cursor()\n",
    "cur.execute(\"CREATE TABLE customers (customer_id, signup_date);\")\n",
    "cur.execute(\"CREATE TABLE orders (id,order_number,customer_id,created);\")\n",
    "\n",
    "with open('customers.csv','r') as fin:\n",
    "    dr = csv.DictReader(fin)\n",
    "    to_db = [(i['id'], i['created']) for i in dr]\n",
    "\n",
    "cur.executemany(\"INSERT INTO customers (customer_id, signup_date) VALUES (?, ?);\", to_db)\n",
    "con.commit()\n",
    "\n",
    "with open('orders.csv','r') as fin:\n",
    "    dr = csv.DictReader(fin)\n",
    "    to_db = [(i['id'], i['order_number'], i['user_id'], i['created'], ) for i in dr]\n",
    "\n",
    "cur.executemany(\"INSERT INTO orders (id,order_number,customer_id,created) VALUES (?, ?, ?, ?);\", to_db)\n",
    "con.commit()"
   ]
  },
  {
   "cell_type": "code",
   "execution_count": 4,
   "metadata": {},
   "outputs": [],
   "source": [
    "# Find the signup date range:\n",
    "cur.execute('''SELECT MIN(date(signup_date)), MAX(date(signup_date)) FROM customers''')\n",
    "result = cur.fetchone()\n",
    "min_date = datetime.datetime.strptime(result[0], \"%Y-%m-%d\")\n",
    "max_date = datetime.datetime.strptime(result[1], \"%Y-%m-%d\")"
   ]
  },
  {
   "cell_type": "code",
   "execution_count": 6,
   "metadata": {},
   "outputs": [],
   "source": [
    "# Make a lookup dictionary of users' firt orders\n",
    "cur.execute(f\"SELECT customer_id, MIN(created) FROM orders GROUP BY customer_id\")\n",
    "customers_first = cur.fetchall()\n",
    "customers_first = dict((x, y) for x, y in customers_first)\n",
    "# IMHO a better approach than creating a dictionary would be to add a RANK() window function to the query in the next command\n",
    "# and filter for customers with rank 0 (indicating it's their first order)\n",
    "# however, window functions are only available in later versions of sqlite3 which is not trivially to setup on Python 3.6"
   ]
  },
  {
   "cell_type": "code",
   "execution_count": 8,
   "metadata": {},
   "outputs": [],
   "source": [
    "import math \n",
    "\n",
    "d = min_date\n",
    "fp = open('solution.csv', 'w', encoding='utf8')\n",
    "writer = csv.writer(fp, delimiter='\\t', quotechar='\"', lineterminator='\\n')\n",
    "# Write header\n",
    "days_start = 0\n",
    "csv_row =  ['Cohort', 'Customers']\n",
    "while days_start < max_elapsed_since_signup:\n",
    "    days_end = days_start + 6\n",
    "    csv_row.append(f\"{days_start}-{days_end} days\")\n",
    "    days_start += 7\n",
    "\n",
    "writer.writerow(csv_row)\n",
    "\n",
    "# Computer cohorts\n",
    "while d < max_date:\n",
    "    start = d\n",
    "    end = d + timedelta(days=6) # For an inclusive range #.strftime(\"%m/%d/%Y\") \n",
    "    cur.execute(f\"SELECT o.customer_id AS customer_id,c.signup_date, o.created, (Cast(julianday(o.created) - julianday(c.signup_date) AS INTEGER)) AS days_since_signup FROM customers c INNER JOIN orders o ON c.customer_id = o.customer_id WHERE strftime('%s', signup_date) BETWEEN strftime('%s', '{start}') AND strftime('%s', '{end}')\")\n",
    "    all_rows = cur.fetchall()\n",
    "    customers_count = len(set(map(lambda x: x[0], all_rows)))\n",
    "    max_elapsed_since_signup = max(list(map(lambda x: x[3], all_rows)))\n",
    "    date_formatted = f\"{start.strftime('%m/%d/%y')}-{end.strftime('%m/%d/%y')}\"\n",
    "    customers_formatted = f\"{customers_count} customers\"\n",
    "    csv_row = [date_formatted, customers_formatted]\n",
    "    days_start = 0\n",
    "    while days_start < max_elapsed_since_signup:\n",
    "        days_end = days_start + 6\n",
    "        in_range = list(filter(lambda x: x[3] >=days_start and x[3] <= days_end, all_rows))\n",
    "        customers_in_cohort = len(set(map(lambda x: x[0], in_range)))\n",
    "        customers_in_cohort_first = len(set(map(lambda x: x[0], filter(lambda x: customers_first[x[0]] == x[2], in_range))))\n",
    "        customers_in_cohort_formated = f\"{math.floor(100*(customers_in_cohort/customers_count))}% orders ({customers_in_cohort})\"\n",
    "        customers_in_cohort_first_formated = f\"{math.floor(100*(customers_in_cohort_first/customers_count))}% 1st time ({customers_in_cohort})\"\n",
    "        appended = f\"{customers_in_cohort_formated} - {customers_in_cohort_first_formated}\"\n",
    "        csv_row.append(appended)\n",
    "        days_start += 7\n",
    "    d = end + timedelta(days=1)\n",
    "    writer.writerow(csv_row)\n",
    "fp.close()"
   ]
  },
  {
   "cell_type": "code",
   "execution_count": null,
   "metadata": {},
   "outputs": [],
   "source": []
  }
 ],
 "metadata": {
  "kernelspec": {
   "display_name": "Python 3",
   "language": "python",
   "name": "python3"
  },
  "language_info": {
   "codemirror_mode": {
    "name": "ipython",
    "version": 3
   },
   "file_extension": ".py",
   "mimetype": "text/x-python",
   "name": "python",
   "nbconvert_exporter": "python",
   "pygments_lexer": "ipython3",
   "version": "3.6.8"
  }
 },
 "nbformat": 4,
 "nbformat_minor": 2
}
